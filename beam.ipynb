{
 "cells": [
  {
   "cell_type": "markdown",
   "metadata": {},
   "source": [
    "### Step 1: Ingest college data"
   ]
  },
  {
   "cell_type": "code",
   "execution_count": 9,
   "metadata": {},
   "outputs": [],
   "source": [
    "dataset_id = \"college_staging\""
   ]
  },
  {
   "cell_type": "code",
   "execution_count": 10,
   "metadata": {},
   "outputs": [
    {
     "name": "stdout",
     "output_type": "stream",
     "text": [
      "Dataset 'cs327e-sp2020:college_staging' successfully created.\n"
     ]
    }
   ],
   "source": [
    "!bq --location=US mk --dataset {dataset_id}"
   ]
  },
  {
   "cell_type": "code",
   "execution_count": 11,
   "metadata": {},
   "outputs": [
    {
     "name": "stdout",
     "output_type": "stream",
     "text": [
      "Waiting on bqjob_r13d8187ef617e70e_00000175e7547b87_1 ... (1s) Current status: DONE   \n"
     ]
    }
   ],
   "source": [
    "!bq --location=US load --skip_leading_rows=1 \\\n",
    "--source_format=CSV {dataset_id}.Student 'gs://cs327e-open-access/college_staging/student.csv' \\\n",
    "sid:STRING,fname:STRING,lname:STRING,dob:STRING,status:STRING"
   ]
  },
  {
   "cell_type": "code",
   "execution_count": 12,
   "metadata": {},
   "outputs": [
    {
     "name": "stdout",
     "output_type": "stream",
     "text": [
      "Waiting on bqjob_r1c26275df7f07858_00000175e755a45f_1 ... (0s) Current status: DONE   \n"
     ]
    }
   ],
   "source": [
    "!bq --location=US load --skip_leading_rows=1 \\\n",
    "--source_format=CSV {dataset_id}.Class 'gs://cs327e-open-access/college_staging/class.csv' \\\n",
    "sid:STRING,cno:STRING,cname:STRING,credits:INTEGER,grade:STRING"
   ]
  },
  {
   "cell_type": "code",
   "execution_count": 13,
   "metadata": {},
   "outputs": [
    {
     "name": "stdout",
     "output_type": "stream",
     "text": [
      "Waiting on bqjob_r210ac8d0e306f672_00000175e755b381_1 ... (1s) Current status: DONE   \n"
     ]
    }
   ],
   "source": [
    "!bq --location=US load --skip_leading_rows=1 \\\n",
    "--source_format=CSV {dataset_id}.Teacher 'gs://cs327e-open-access/college_staging/teacher.csv' \\\n",
    "tid:STRING,instructor:STRING,dept:STRING"
   ]
  },
  {
   "cell_type": "code",
   "execution_count": 14,
   "metadata": {},
   "outputs": [
    {
     "name": "stdout",
     "output_type": "stream",
     "text": [
      "Waiting on bqjob_r7fadc2c18b385de5_00000175e755c146_1 ... (1s) Current status: DONE   \n"
     ]
    }
   ],
   "source": [
    "!bq --location=US load --skip_leading_rows=1 \\\n",
    "--source_format=CSV {dataset_id}.Teaches 'gs://cs327e-open-access/college_staging/teaches.csv' \\\n",
    "tid:STRING,cno:STRING"
   ]
  },
  {
   "cell_type": "markdown",
   "metadata": {},
   "source": [
    "### Step 2: Transform college data"
   ]
  },
  {
   "cell_type": "code",
   "execution_count": 15,
   "metadata": {},
   "outputs": [
    {
     "name": "stdout",
     "output_type": "stream",
     "text": [
      "Dataset 'cs327e-sp2020:college_refined' successfully created.\n"
     ]
    }
   ],
   "source": [
    "!bq --location=US mk --dataset college_refined"
   ]
  },
  {
   "cell_type": "code",
   "execution_count": 16,
   "metadata": {},
   "outputs": [],
   "source": [
    "%run teacher_beam.py"
   ]
  },
  {
   "cell_type": "code",
   "execution_count": 17,
   "metadata": {},
   "outputs": [
    {
     "name": "stdout",
     "output_type": "stream",
     "text": [
      "input dob: 2000-04-22, output dob: 2000-04-22\n",
      "input dob: 01/10/2000, output dob: 2000-01-10\n",
      "input dob: 09/17/2000, output dob: 2000-09-17\n",
      "input dob: Oct-01-2001, output dob: 2001-10-01\n",
      "input dob: 1999-01-03, output dob: 1999-01-03\n",
      "input dob: 04/22/1998, output dob: 1998-04-22\n",
      "input dob: May-10-1999, output dob: 1999-05-10\n",
      "input dob: 07/31/1999, output dob: 1999-07-31\n",
      "input dob: Apr-04-2000, output dob: 2000-04-04\n",
      "input dob: 2001-03-03, output dob: 2001-03-03\n",
      "input dob: 08/22/2000, output dob: 2000-08-22\n",
      "input dob: 07/11/2000, output dob: 2000-07-11\n"
     ]
    }
   ],
   "source": [
    "%run student_beam.py"
   ]
  },
  {
   "cell_type": "code",
   "execution_count": 18,
   "metadata": {},
   "outputs": [],
   "source": [
    "%run class_beam.py"
   ]
  },
  {
   "cell_type": "code",
   "execution_count": null,
   "metadata": {},
   "outputs": [],
   "source": []
  }
 ],
 "metadata": {
  "environment": {
   "name": "common-cpu.m59",
   "type": "gcloud",
   "uri": "gcr.io/deeplearning-platform-release/base-cpu:m59"
  },
  "kernelspec": {
   "display_name": "Python Beam",
   "language": "python",
   "name": "beam_kernel"
  },
  "language_info": {
   "codemirror_mode": {
    "name": "ipython",
    "version": 3
   },
   "file_extension": ".py",
   "mimetype": "text/x-python",
   "name": "python",
   "nbconvert_exporter": "python",
   "pygments_lexer": "ipython3",
   "version": "3.7.8"
  }
 },
 "nbformat": 4,
 "nbformat_minor": 4
}
