{
 "cells": [
  {
   "cell_type": "code",
   "execution_count": 1,
   "metadata": {},
   "outputs": [
    {
     "name": "stdout",
     "output_type": "stream",
     "text": [
      "env: MYSQLINSTANCE=mysql\n"
     ]
    }
   ],
   "source": [
    "%env MYSQLINSTANCE=mysql"
   ]
  },
  {
   "cell_type": "code",
   "execution_count": 2,
   "metadata": {},
   "outputs": [],
   "source": [
    "!mysql college < /home/jupyter/mysql_college_staging.sql"
   ]
  },
  {
   "cell_type": "code",
   "execution_count": 4,
   "metadata": {},
   "outputs": [
    {
     "name": "stdout",
     "output_type": "stream",
     "text": [
      "Importing data into Cloud SQL instance...done.                                 \n",
      "Imported data from [gs://cs327e-open-access/college_staging/Classes.csv] into [https://sqladmin.googleapis.com/sql/v1beta4/projects/cs327e-sp2020/instances/mysql].\n"
     ]
    }
   ],
   "source": [
    "!gcloud sql import csv $MYSQLINSTANCE gs://cs327e-open-access/college_staging/Classes.csv --database=college --table=Classes --quiet"
   ]
  },
  {
   "cell_type": "code",
   "execution_count": 5,
   "metadata": {},
   "outputs": [
    {
     "name": "stdout",
     "output_type": "stream",
     "text": [
      "Importing data into Cloud SQL instance...done.                                 \n",
      "Imported data from [gs://cs327e-open-access/college_staging/Current_Students.csv] into [https://sqladmin.googleapis.com/sql/v1beta4/projects/cs327e-sp2020/instances/mysql].\n"
     ]
    }
   ],
   "source": [
    "!gcloud sql import csv $MYSQLINSTANCE gs://cs327e-open-access/college_staging/Current_Students.csv --database=college --table=Current_Students --quiet"
   ]
  },
  {
   "cell_type": "code",
   "execution_count": 6,
   "metadata": {},
   "outputs": [
    {
     "name": "stdout",
     "output_type": "stream",
     "text": [
      "Importing data into Cloud SQL instance...done.                                 \n",
      "Imported data from [gs://cs327e-open-access/college_staging/New_Students.csv] into [https://sqladmin.googleapis.com/sql/v1beta4/projects/cs327e-sp2020/instances/mysql].\n"
     ]
    }
   ],
   "source": [
    "!gcloud sql import csv $MYSQLINSTANCE gs://cs327e-open-access/college_staging/New_Students.csv --database=college --table=New_Students --quiet"
   ]
  },
  {
   "cell_type": "code",
   "execution_count": 7,
   "metadata": {},
   "outputs": [
    {
     "name": "stdout",
     "output_type": "stream",
     "text": [
      "+----------+\n",
      "| count(*) |\n",
      "+----------+\n",
      "|       12 |\n",
      "+----------+\n"
     ]
    }
   ],
   "source": [
    "!mysql college -e \"select count(*) from Classes\""
   ]
  },
  {
   "cell_type": "code",
   "execution_count": 8,
   "metadata": {},
   "outputs": [
    {
     "name": "stdout",
     "output_type": "stream",
     "text": [
      "+----------+\n",
      "| count(*) |\n",
      "+----------+\n",
      "|       13 |\n",
      "+----------+\n"
     ]
    }
   ],
   "source": [
    "!mysql college -e \"select count(*) from Current_Students\""
   ]
  },
  {
   "cell_type": "code",
   "execution_count": 9,
   "metadata": {},
   "outputs": [
    {
     "name": "stdout",
     "output_type": "stream",
     "text": [
      "+----------+\n",
      "| count(*) |\n",
      "+----------+\n",
      "|        7 |\n",
      "+----------+\n"
     ]
    }
   ],
   "source": [
    "!mysql college -e \"select count(*) from New_Students\""
   ]
  },
  {
   "cell_type": "code",
   "execution_count": 10,
   "metadata": {},
   "outputs": [
    {
     "name": "stdout",
     "output_type": "stream",
     "text": [
      "+---------+---------------+------------------+--------+----------------------------------+---------+\n",
      "| tid     | instructor    | dept             | cno    | cname                            | credits |\n",
      "+---------+---------------+------------------+--------+----------------------------------+---------+\n",
      "| fares   | Fares Fraij   | CS               | CS331E | Elements of Software Engineering |       3 |\n",
      "| mitra   | Shyamal Mitra | CS               | CS313E | Elements of Software Design      |       3 |\n",
      "| mitra   | Shyamal Mitra | Computer Science | CS329E | Elements of Web Programming      |       3 |\n",
      "| cannata | Phil Cannata  | CS               | CS326E | Elements of Networking           |       3 |\n",
      "| scohen  | Shirley Cohen | Computer Science | CS327E | Elements of Databases            |       3 |\n",
      "| bulko   | Bill Bulko    | Computer Science | CS313E | Elements of Software Design      |       3 |\n",
      "| cannata | Phil Cannata  | CS               | CS347  | Data Management                  |       3 |\n",
      "+---------+---------------+------------------+--------+----------------------------------+---------+\n"
     ]
    }
   ],
   "source": [
    "!mysql college -e \"select * from Classes limit 7\""
   ]
  },
  {
   "cell_type": "code",
   "execution_count": 11,
   "metadata": {},
   "outputs": [
    {
     "name": "stdout",
     "output_type": "stream",
     "text": [
      "+--------+-------+----------+------------+--------+-----------------------------+---------+-------+\n",
      "| sid    | fname | lname    | dob        | cno    | cname                       | credits | grade |\n",
      "+--------+-------+----------+------------+--------+-----------------------------+---------+-------+\n",
      "| kev18  | Kevin | Lin      | 1999-05-10 | CS329E | Elements of Web Programming |       3 |       |\n",
      "| paulg  | Paul  | Gore     | 2000-09-17 | CS329E | Elements of Web Programming |       3 | A     |\n",
      "| paulg  | Paul  | Gore     | 2000-09-17 | CS326E | Elements of Networking      |       3 | A-    |\n",
      "| paulg  | Paul  | Gore     | 2000-09-17 | CS313E | Elements of Software Design |       3 |       |\n",
      "| bzen26 | Biswa | Zen      | 04/22/1998 | CS313E | Elements of Software Design |       3 | B+    |\n",
      "| jerryh | Jerry | Hargrove | 01/03/1999 | CS327E | Elements of Databases       |       3 | B     |\n",
      "| jerryh | Jerry | Hargrove | 01/03/1999 | CS327E | Elements of Databases       |       0 |       |\n",
      "+--------+-------+----------+------------+--------+-----------------------------+---------+-------+\n"
     ]
    }
   ],
   "source": [
    "!mysql college -e \"select * from Current_Students limit 7\""
   ]
  },
  {
   "cell_type": "code",
   "execution_count": 12,
   "metadata": {},
   "outputs": [
    {
     "name": "stdout",
     "output_type": "stream",
     "text": [
      "+----------+---------+----------+------------+\n",
      "| sid      | fname   | lname    | dob        |\n",
      "+----------+---------+----------+------------+\n",
      "| aprilz   | April   | Lopez    | 2000-01-10 |\n",
      "| sudeepa4 | Sudeepa | Roy      | 2000-10-01 |\n",
      "| ryan22   | Ryan    | Watson   | 2000-11-07 |\n",
      "| dchen    | David   | Chen     | 2000-08-22 |\n",
      "| natea    | Nathan  | Anderson | 2000-04-08 |\n",
      "| nitinm   | Nitin   | Mogal    | 1999-07-31 |\n",
      "| kgomez9  | Katie   | Gomez    | 2001-03-03 |\n",
      "+----------+---------+----------+------------+\n"
     ]
    }
   ],
   "source": [
    "!mysql college -e \"select * from New_Students limit 7\""
   ]
  },
  {
   "cell_type": "code",
   "execution_count": 13,
   "metadata": {},
   "outputs": [],
   "source": [
    "!mysql college -e \"update Current_Students set dob = '1998-04-22' where dob = '04/22/1998'\""
   ]
  },
  {
   "cell_type": "code",
   "execution_count": 14,
   "metadata": {},
   "outputs": [
    {
     "name": "stdout",
     "output_type": "stream",
     "text": [
      "+--------+-------+-------+------------+--------+-----------------------------+---------+-------+\n",
      "| sid    | fname | lname | dob        | cno    | cname                       | credits | grade |\n",
      "+--------+-------+-------+------------+--------+-----------------------------+---------+-------+\n",
      "| bzen26 | Biswa | Zen   | 1998-04-22 | CS313E | Elements of Software Design |       3 | B+    |\n",
      "+--------+-------+-------+------------+--------+-----------------------------+---------+-------+\n"
     ]
    }
   ],
   "source": [
    "!mysql college -e \"select * from Current_Students where sid = 'bzen26'\""
   ]
  },
  {
   "cell_type": "code",
   "execution_count": 15,
   "metadata": {},
   "outputs": [],
   "source": [
    "!mysql college -e \"delete from New_Students where sid = 'aprilz'\""
   ]
  },
  {
   "cell_type": "code",
   "execution_count": 16,
   "metadata": {},
   "outputs": [
    {
     "name": "stdout",
     "output_type": "stream",
     "text": [
      "+----------+---------+----------+------------+\n",
      "| sid      | fname   | lname    | dob        |\n",
      "+----------+---------+----------+------------+\n",
      "| sudeepa4 | Sudeepa | Roy      | 2000-10-01 |\n",
      "| ryan22   | Ryan    | Watson   | 2000-11-07 |\n",
      "| dchen    | David   | Chen     | 2000-08-22 |\n",
      "| natea    | Nathan  | Anderson | 2000-04-08 |\n",
      "| nitinm   | Nitin   | Mogal    | 1999-07-31 |\n",
      "| kgomez9  | Katie   | Gomez    | 2001-03-03 |\n",
      "+----------+---------+----------+------------+\n"
     ]
    }
   ],
   "source": [
    "!mysql college -e \"select * from New_Students\""
   ]
  },
  {
   "cell_type": "code",
   "execution_count": 17,
   "metadata": {},
   "outputs": [],
   "source": [
    "!mysql college -e \"insert into New_Students (sid, fname, lname, dob) values ('aprilz', 'April', 'Lopez', '2000-01-10')\""
   ]
  },
  {
   "cell_type": "code",
   "execution_count": 18,
   "metadata": {},
   "outputs": [
    {
     "name": "stdout",
     "output_type": "stream",
     "text": [
      "+----------+---------+----------+------------+\n",
      "| sid      | fname   | lname    | dob        |\n",
      "+----------+---------+----------+------------+\n",
      "| sudeepa4 | Sudeepa | Roy      | 2000-10-01 |\n",
      "| ryan22   | Ryan    | Watson   | 2000-11-07 |\n",
      "| dchen    | David   | Chen     | 2000-08-22 |\n",
      "| natea    | Nathan  | Anderson | 2000-04-08 |\n",
      "| nitinm   | Nitin   | Mogal    | 1999-07-31 |\n",
      "| kgomez9  | Katie   | Gomez    | 2001-03-03 |\n",
      "| aprilz   | April   | Lopez    | 2000-01-10 |\n",
      "+----------+---------+----------+------------+\n"
     ]
    }
   ],
   "source": [
    "!mysql college -e \"select * from New_Students\""
   ]
  },
  {
   "cell_type": "code",
   "execution_count": null,
   "metadata": {},
   "outputs": [],
   "source": []
  }
 ],
 "metadata": {
  "environment": {
   "name": "common-cpu.m54",
   "type": "gcloud",
   "uri": "gcr.io/deeplearning-platform-release/base-cpu:m54"
  },
  "kernelspec": {
   "display_name": "Python 3",
   "language": "python",
   "name": "python3"
  },
  "language_info": {
   "codemirror_mode": {
    "name": "ipython",
    "version": 3
   },
   "file_extension": ".py",
   "mimetype": "text/x-python",
   "name": "python",
   "nbconvert_exporter": "python",
   "pygments_lexer": "ipython3",
   "version": "3.7.8"
  }
 },
 "nbformat": 4,
 "nbformat_minor": 4
}
